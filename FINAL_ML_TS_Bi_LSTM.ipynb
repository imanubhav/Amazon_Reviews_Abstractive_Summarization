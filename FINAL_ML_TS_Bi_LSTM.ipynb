{
  "nbformat": 4,
  "nbformat_minor": 0,
  "metadata": {
    "colab": {
      "name": "FINAL_ML_TS_Bi-LSTM.ipynb",
      "provenance": [],
      "collapsed_sections": []
    },
    "kernelspec": {
      "name": "python3",
      "display_name": "Python 3"
    }
  },
  "cells": [
    {
      "cell_type": "code",
      "metadata": {
        "id": "jUJ9x7Ni0LyA",
        "colab": {
          "base_uri": "https://localhost:8080/",
          "height": 50
        },
        "outputId": "884ee7a0-ec18-474c-ddfb-1793fd3cdf25"
      },
      "source": [
        "import pandas as pd\n",
        "import numpy as np\n",
        "import matplotlib.pyplot as plt\n",
        "import re\n",
        "import tensorflow as tf\n",
        "from bs4 import BeautifulSoup\n",
        "from tensorflow.keras.layers import Bidirectional, LSTM, Input, Embedding, Dense, TimeDistributed, Concatenate, Attention\n",
        "from tensorflow.keras.models import Model, load_model\n",
        "from tensorflow.keras.callbacks import EarlyStopping\n",
        "from tensorflow.keras.preprocessing.text import Tokenizer\n",
        "from tensorflow.keras.preprocessing.sequence import pad_sequences\n",
        "from sklearn.model_selection import train_test_split\n",
        "import warnings\n",
        "warnings.filterwarnings('ignore')\n",
        "import nltk\n",
        "nltk.download('stopwords')\n",
        "from nltk.corpus import stopwords"
      ],
      "execution_count": null,
      "outputs": [
        {
          "output_type": "stream",
          "text": [
            "[nltk_data] Downloading package stopwords to /root/nltk_data...\n",
            "[nltk_data]   Unzipping corpora/stopwords.zip.\n"
          ],
          "name": "stdout"
        }
      ]
    },
    {
      "cell_type": "code",
      "metadata": {
        "id": "DFQ5dCHN0Zr2",
        "colab": {
          "base_uri": "https://localhost:8080/",
          "height": 601
        },
        "outputId": "69d5b7e3-8e40-4f11-f027-4d896b4d7515"
      },
      "source": [
        "data=pd.read_csv(\"/content/drive/My Drive/ML Project/Reviews.csv\",nrows=150000)\n",
        "data.drop_duplicates(subset = ['Text'], inplace = True)\n",
        "data.dropna(axis = 0, inplace = True)\n",
        "data.head()"
      ],
      "execution_count": null,
      "outputs": [
        {
          "output_type": "execute_result",
          "data": {
            "text/html": [
              "<div>\n",
              "<style scoped>\n",
              "    .dataframe tbody tr th:only-of-type {\n",
              "        vertical-align: middle;\n",
              "    }\n",
              "\n",
              "    .dataframe tbody tr th {\n",
              "        vertical-align: top;\n",
              "    }\n",
              "\n",
              "    .dataframe thead th {\n",
              "        text-align: right;\n",
              "    }\n",
              "</style>\n",
              "<table border=\"1\" class=\"dataframe\">\n",
              "  <thead>\n",
              "    <tr style=\"text-align: right;\">\n",
              "      <th></th>\n",
              "      <th>Id</th>\n",
              "      <th>ProductId</th>\n",
              "      <th>UserId</th>\n",
              "      <th>ProfileName</th>\n",
              "      <th>HelpfulnessNumerator</th>\n",
              "      <th>HelpfulnessDenominator</th>\n",
              "      <th>Score</th>\n",
              "      <th>Time</th>\n",
              "      <th>Summary</th>\n",
              "      <th>Text</th>\n",
              "    </tr>\n",
              "  </thead>\n",
              "  <tbody>\n",
              "    <tr>\n",
              "      <th>0</th>\n",
              "      <td>1</td>\n",
              "      <td>B001E4KFG0</td>\n",
              "      <td>A3SGXH7AUHU8GW</td>\n",
              "      <td>delmartian</td>\n",
              "      <td>1</td>\n",
              "      <td>1</td>\n",
              "      <td>5</td>\n",
              "      <td>1303862400</td>\n",
              "      <td>Good Quality Dog Food</td>\n",
              "      <td>I have bought several of the Vitality canned d...</td>\n",
              "    </tr>\n",
              "    <tr>\n",
              "      <th>1</th>\n",
              "      <td>2</td>\n",
              "      <td>B00813GRG4</td>\n",
              "      <td>A1D87F6ZCVE5NK</td>\n",
              "      <td>dll pa</td>\n",
              "      <td>0</td>\n",
              "      <td>0</td>\n",
              "      <td>1</td>\n",
              "      <td>1346976000</td>\n",
              "      <td>Not as Advertised</td>\n",
              "      <td>Product arrived labeled as Jumbo Salted Peanut...</td>\n",
              "    </tr>\n",
              "    <tr>\n",
              "      <th>2</th>\n",
              "      <td>3</td>\n",
              "      <td>B000LQOCH0</td>\n",
              "      <td>ABXLMWJIXXAIN</td>\n",
              "      <td>Natalia Corres \"Natalia Corres\"</td>\n",
              "      <td>1</td>\n",
              "      <td>1</td>\n",
              "      <td>4</td>\n",
              "      <td>1219017600</td>\n",
              "      <td>\"Delight\" says it all</td>\n",
              "      <td>This is a confection that has been around a fe...</td>\n",
              "    </tr>\n",
              "    <tr>\n",
              "      <th>3</th>\n",
              "      <td>4</td>\n",
              "      <td>B000UA0QIQ</td>\n",
              "      <td>A395BORC6FGVXV</td>\n",
              "      <td>Karl</td>\n",
              "      <td>3</td>\n",
              "      <td>3</td>\n",
              "      <td>2</td>\n",
              "      <td>1307923200</td>\n",
              "      <td>Cough Medicine</td>\n",
              "      <td>If you are looking for the secret ingredient i...</td>\n",
              "    </tr>\n",
              "    <tr>\n",
              "      <th>4</th>\n",
              "      <td>5</td>\n",
              "      <td>B006K2ZZ7K</td>\n",
              "      <td>A1UQRSCLF8GW1T</td>\n",
              "      <td>Michael D. Bigham \"M. Wassir\"</td>\n",
              "      <td>0</td>\n",
              "      <td>0</td>\n",
              "      <td>5</td>\n",
              "      <td>1350777600</td>\n",
              "      <td>Great taffy</td>\n",
              "      <td>Great taffy at a great price.  There was a wid...</td>\n",
              "    </tr>\n",
              "  </tbody>\n",
              "</table>\n",
              "</div>"
            ],
            "text/plain": [
              "   Id  ...                                               Text\n",
              "0   1  ...  I have bought several of the Vitality canned d...\n",
              "1   2  ...  Product arrived labeled as Jumbo Salted Peanut...\n",
              "2   3  ...  This is a confection that has been around a fe...\n",
              "3   4  ...  If you are looking for the secret ingredient i...\n",
              "4   5  ...  Great taffy at a great price.  There was a wid...\n",
              "\n",
              "[5 rows x 10 columns]"
            ]
          },
          "metadata": {
            "tags": []
          },
          "execution_count": 30
        }
      ]
    },
    {
      "cell_type": "code",
      "metadata": {
        "id": "YEemUI180koD"
      },
      "source": [
        "def cleaner(text, remove_stopwords=True):\n",
        "  \"\"\"removes url's, nltk's stopwords and anything which is not an alphabet\"\"\"\n",
        "  \n",
        "  stop_words = set(stopwords.words('english'))\n",
        "  text = re.sub(r'^https?:\\/\\/.*[\\r\\n]*', '', text.lower(), flags=re.MULTILINE)\n",
        "  text = re.sub(r'[^a-zA-Z]', ' ', text)\n",
        "  text = contractions.fix(text, slang=False)\n",
        "  if remove_stopwords:\n",
        "    text = ' '.join([word for word in text.split() if word not in stop_words]).strip()\n",
        "  return text"
      ],
      "execution_count": null,
      "outputs": []
    },
    {
      "cell_type": "code",
      "metadata": {
        "id": "eHCfAzOE1uKc",
        "colab": {
          "base_uri": "https://localhost:8080/",
          "height": 103
        },
        "outputId": "5a6b226f-86a4-4b71-8149-76aaa7fea38f"
      },
      "source": [
        "!pip install contractions"
      ],
      "execution_count": null,
      "outputs": [
        {
          "output_type": "stream",
          "text": [
            "Requirement already satisfied: contractions in /usr/local/lib/python3.6/dist-packages (0.0.25)\n",
            "Requirement already satisfied: textsearch in /usr/local/lib/python3.6/dist-packages (from contractions) (0.0.17)\n",
            "Requirement already satisfied: pyahocorasick in /usr/local/lib/python3.6/dist-packages (from textsearch->contractions) (1.4.0)\n",
            "Requirement already satisfied: Unidecode in /usr/local/lib/python3.6/dist-packages (from textsearch->contractions) (1.1.1)\n"
          ],
          "name": "stdout"
        }
      ]
    },
    {
      "cell_type": "code",
      "metadata": {
        "id": "YJr3COEL1BOU",
        "colab": {
          "base_uri": "https://localhost:8080/",
          "height": 33
        },
        "outputId": "83459e55-2365-4f15-fec5-ef9ede72e083"
      },
      "source": [
        "import contractions\n",
        "from time import time\n",
        "from math import ceil\n",
        "\n",
        "t1 = time()\n",
        "cleaned_text = []\n",
        "for t in data['Text']:\n",
        "    cleaned_text.append(cleaner(t))\n",
        "\n",
        "t2 = time()\n",
        "cleaned_summary = []\n",
        "for t in data['Summary']:\n",
        "    cleaned_summary.append(cleaner(t, remove_stopwords = False))\n",
        "\n",
        "t3 = time()\n",
        "print('Text cleaned in {} sec, and Summary in {} sec'.format(ceil(t2-t1), ceil(t3-t2)))\n",
        "\n",
        "data = pd.DataFrame({\n",
        "    'text'    :   cleaned_text,\n",
        "    'summary' :   cleaned_summary})\n",
        "\n",
        "data.replace('', np.nan, inplace = True)\n",
        "data.dropna(axis = 0, inplace = True)"
      ],
      "execution_count": null,
      "outputs": [
        {
          "output_type": "stream",
          "text": [
            "Text cleaned in 5 sec, and Summary in 4 sec\n"
          ],
          "name": "stdout"
        }
      ]
    },
    {
      "cell_type": "code",
      "metadata": {
        "id": "Y-r9cX1J1NYF"
      },
      "source": [
        "data.reset_index(inplace=True, drop=True)"
      ],
      "execution_count": null,
      "outputs": []
    },
    {
      "cell_type": "code",
      "metadata": {
        "id": "WfCige6511p2"
      },
      "source": [
        ""
      ],
      "execution_count": null,
      "outputs": []
    },
    {
      "cell_type": "code",
      "metadata": {
        "id": "CydPQSEr1_9w",
        "colab": {
          "base_uri": "https://localhost:8080/",
          "height": 606
        },
        "outputId": "12c61e40-ea63-4a4e-ffb4-66d8ff622e98"
      },
      "source": [
        "text_word_count    = []\n",
        "summary_word_count = []\n",
        "\n",
        "for i in data['text']:\n",
        "      text_word_count.append(len(i.split()))\n",
        "\n",
        "for i in data['summary']:\n",
        "      summary_word_count.append(len(i.split()))\n",
        "\n",
        "visualize = pd.DataFrame({'text':text_word_count, 'summary':summary_word_count})\n",
        "visualize.hist(bins = 50)\n",
        "plt.rcParams['figure.figsize'] = (10, 10)\n",
        "plt.show()"
      ],
      "execution_count": null,
      "outputs": [
        {
          "output_type": "display_data",
          "data": {
            "image/png": "[encoded data removed]",
            "text/plain": [
              "<Figure size 720x720 with 2 Axes>"
            ]
          },
          "metadata": {
            "tags": [],
            "needs_background": "light"
          }
        }
      ]
    },
    {
      "cell_type": "code",
      "metadata": {
        "id": "r1iWJI1G2Bjt",
        "colab": {
          "base_uri": "https://localhost:8080/",
          "height": 33
        },
        "outputId": "4b15113f-05f3-42b0-de32-59211de1af8d"
      },
      "source": [
        "cnt = 0\n",
        "for i in range(data.shape[0]):\n",
        "  if len(data['text'][i].split()) <= 60 and len(data['summary'][i].split()) <= 10:\n",
        "    cnt += 1\n",
        "print(cnt)"
      ],
      "execution_count": null,
      "outputs": [
        {
          "output_type": "stream",
          "text": [
            "15588\n"
          ],
          "name": "stdout"
        }
      ]
    },
    {
      "cell_type": "code",
      "metadata": {
        "id": "g3HeFJSP2DKr"
      },
      "source": [
        "_MAX_SUMMARY_LEN = 10\n",
        "_MAX_TEXT_LEN    = 60\n",
        "# Declaring the important variables here, which will be used later down the notebook\n",
        "\n",
        "_NROWS           =   100000\n",
        "_TEXT_PADDING    =   'post'\n",
        "_EMBEDDING_DIM   =   500\n",
        "_ENCODER_DIM     =   300\n",
        "_DECODER_DIM     =   600\n",
        "_BATCH_SIZE      =   64\n",
        "_EPOCHS          =   40"
      ],
      "execution_count": null,
      "outputs": []
    },
    {
      "cell_type": "code",
      "metadata": {
        "id": "3UoRmQRU2EYd"
      },
      "source": [
        "\n",
        "def prepare(dataset):\n",
        "  global _MAX_SUMMARY_LEN, _MAX_TEXT_LEN\n",
        "  newtext    =  []\n",
        "  newsummary =  []\n",
        "  \n",
        "  for i in range(len(dataset['text'])):\n",
        "    if len(dataset['text'][i].split()) <= _MAX_TEXT_LEN and len(dataset['summary'][i].split()) <= _MAX_SUMMARY_LEN:\n",
        "      newtext.append(dataset['text'][i])\n",
        "      newsummary.append(dataset['summary'][i])\n",
        "\n",
        "  dataset = pd.DataFrame({'text'    : newtext,\n",
        "                          'summary' : newsummary})\n",
        "  dataset['summary'] = dataset['summary'].apply(lambda row : 'stok ' + row + ' etok')\n",
        "  dataset.reset_index(drop=True, inplace=True)\n",
        "  return dataset"
      ],
      "execution_count": null,
      "outputs": []
    },
    {
      "cell_type": "code",
      "metadata": {
        "id": "Oi63Oltk2Fql"
      },
      "source": [
        "df = prepare(data)"
      ],
      "execution_count": null,
      "outputs": []
    },
    {
      "cell_type": "code",
      "metadata": {
        "id": "ky3-d6OZ2HMV",
        "colab": {
          "base_uri": "https://localhost:8080/",
          "height": 197
        },
        "outputId": "2133cb28-7df3-4bbb-b182-dfb4952cf446"
      },
      "source": [
        "\n",
        "df.head()"
      ],
      "execution_count": null,
      "outputs": [
        {
          "output_type": "execute_result",
          "data": {
            "text/html": [
              "<div>\n",
              "<style scoped>\n",
              "    .dataframe tbody tr th:only-of-type {\n",
              "        vertical-align: middle;\n",
              "    }\n",
              "\n",
              "    .dataframe tbody tr th {\n",
              "        vertical-align: top;\n",
              "    }\n",
              "\n",
              "    .dataframe thead th {\n",
              "        text-align: right;\n",
              "    }\n",
              "</style>\n",
              "<table border=\"1\" class=\"dataframe\">\n",
              "  <thead>\n",
              "    <tr style=\"text-align: right;\">\n",
              "      <th></th>\n",
              "      <th>text</th>\n",
              "      <th>summary</th>\n",
              "    </tr>\n",
              "  </thead>\n",
              "  <tbody>\n",
              "    <tr>\n",
              "      <th>0</th>\n",
              "      <td>bought several vitality canned dog food produc...</td>\n",
              "      <td>stok good quality dog food etok</td>\n",
              "    </tr>\n",
              "    <tr>\n",
              "      <th>1</th>\n",
              "      <td>product arrived labeled jumbo salted peanuts p...</td>\n",
              "      <td>stok not as advertised etok</td>\n",
              "    </tr>\n",
              "    <tr>\n",
              "      <th>2</th>\n",
              "      <td>confection around centuries light pillowy citr...</td>\n",
              "      <td>stok  delight  says it all etok</td>\n",
              "    </tr>\n",
              "    <tr>\n",
              "      <th>3</th>\n",
              "      <td>looking secret ingredient robitussin believe f...</td>\n",
              "      <td>stok cough medicine etok</td>\n",
              "    </tr>\n",
              "    <tr>\n",
              "      <th>4</th>\n",
              "      <td>great taffy great price wide assortment yummy ...</td>\n",
              "      <td>stok great taffy etok</td>\n",
              "    </tr>\n",
              "  </tbody>\n",
              "</table>\n",
              "</div>"
            ],
            "text/plain": [
              "                                                text                          summary\n",
              "0  bought several vitality canned dog food produc...  stok good quality dog food etok\n",
              "1  product arrived labeled jumbo salted peanuts p...      stok not as advertised etok\n",
              "2  confection around centuries light pillowy citr...  stok  delight  says it all etok\n",
              "3  looking secret ingredient robitussin believe f...         stok cough medicine etok\n",
              "4  great taffy great price wide assortment yummy ...            stok great taffy etok"
            ]
          },
          "metadata": {
            "tags": []
          },
          "execution_count": 40
        }
      ]
    },
    {
      "cell_type": "code",
      "metadata": {
        "id": "_uMHANED2KlB"
      },
      "source": [
        "x_tr, x_val, y_tr, y_val = train_test_split(np.array(df['text']), np.array(df['summary']),\n",
        "                                       test_size=0.1, random_state=42)"
      ],
      "execution_count": null,
      "outputs": []
    },
    {
      "cell_type": "code",
      "metadata": {
        "id": "lufAE2Jr2Nb1"
      },
      "source": [
        "# preparing 'text' for model training and validation\n",
        "tok_x  = Tokenizer()\n",
        "tok_x.fit_on_texts(list(x_tr))\n",
        "x_tr    =  pad_sequences(tok_x.texts_to_sequences(x_tr),  maxlen=_MAX_TEXT_LEN, padding=_TEXT_PADDING)\n",
        "x_val   =  pad_sequences(tok_x.texts_to_sequences(x_val), maxlen=_MAX_TEXT_LEN, padding=_TEXT_PADDING)\n",
        "vocab_x =  len(tok_x.word_counts) + 1"
      ],
      "execution_count": null,
      "outputs": []
    },
    {
      "cell_type": "code",
      "metadata": {
        "id": "OQt_xTSI2PkJ",
        "colab": {
          "base_uri": "https://localhost:8080/",
          "height": 33
        },
        "outputId": "20b0dd7a-ec8e-41fb-a1f7-5c8c8c06e0c3"
      },
      "source": [
        "vocab_x"
      ],
      "execution_count": null,
      "outputs": [
        {
          "output_type": "execute_result",
          "data": {
            "text/plain": [
              "17107"
            ]
          },
          "metadata": {
            "tags": []
          },
          "execution_count": 46
        }
      ]
    },
    {
      "cell_type": "code",
      "metadata": {
        "id": "nu4OkqJE2RGv"
      },
      "source": [
        "# preparing 'summary' for model training and validation\n",
        "tok_y  = Tokenizer()\n",
        "tok_y.fit_on_texts(list(y_tr))\n",
        "y_tr    =  pad_sequences(tok_y.texts_to_sequences(y_tr),  maxlen=_MAX_TEXT_LEN, padding=_TEXT_PADDING)\n",
        "y_val   =  pad_sequences(tok_y.texts_to_sequences(y_val), maxlen=_MAX_TEXT_LEN, padding=_TEXT_PADDING)\n",
        "vocab_y =  len(tok_y.word_counts) + 1"
      ],
      "execution_count": null,
      "outputs": []
    },
    {
      "cell_type": "code",
      "metadata": {
        "id": "hdcrQ6nZ2SVG",
        "colab": {
          "base_uri": "https://localhost:8080/",
          "height": 33
        },
        "outputId": "5961d629-18b7-4a57-b3d9-80dfd3307799"
      },
      "source": [
        "vocab_y"
      ],
      "execution_count": null,
      "outputs": [
        {
          "output_type": "execute_result",
          "data": {
            "text/plain": [
              "5180"
            ]
          },
          "metadata": {
            "tags": []
          },
          "execution_count": 48
        }
      ]
    },
    {
      "cell_type": "code",
      "metadata": {
        "id": "-vFoDKt_2TtA",
        "colab": {
          "base_uri": "https://localhost:8080/",
          "height": 33
        },
        "outputId": "3a120d62-c2de-48e7-ff95-c911c5aa4764"
      },
      "source": [
        "tok_y.word_counts['stok'], len(y_tr)"
      ],
      "execution_count": null,
      "outputs": [
        {
          "output_type": "execute_result",
          "data": {
            "text/plain": [
              "(14029, 14029)"
            ]
          },
          "metadata": {
            "tags": []
          },
          "execution_count": 49
        }
      ]
    },
    {
      "cell_type": "code",
      "metadata": {
        "id": "j6tlyq6b2U-9"
      },
      "source": [
        "index_to_word_text    =  tok_x.index_word\n",
        "index_to_word_summary =  tok_y.index_word\n",
        "word_to_index_summary =  tok_y.word_index"
      ],
      "execution_count": null,
      "outputs": []
    },
    {
      "cell_type": "code",
      "metadata": {
        "id": "U9SeNfOnUEC9",
        "colab": {
          "base_uri": "https://localhost:8080/",
          "height": 616
        },
        "outputId": "07295c96-72b0-4cee-abc6-8e46dea5a011"
      },
      "source": [
        "# Encoder\n",
        "encoder_input  =  Input(shape=(_MAX_TEXT_LEN,), name='Encoder_input')\n",
        "encoder_embed  =  Embedding(vocab_x, _EMBEDDING_DIM, trainable=True, name='Encoder_embedding')(encoder_input)\n",
        "encoder        =  Bidirectional(LSTM(_ENCODER_DIM, \n",
        "                                     return_sequences=True,\n",
        "                                     return_state=True,\n",
        "                                     dropout=0.4, recurrent_dropout=0.4), name='Encoder_layer')\n",
        "encoder_output, forward_h, forward_c, backward_h, backward_c = encoder(encoder_embed)\n",
        "state_h        =  Concatenate()([forward_h, backward_h])\n",
        "state_c        =  Concatenate()([forward_c, backward_c])\n",
        "\n",
        "# Decoder\n",
        "decoder_input        =  Input(shape=(None,), name='Decoder_input')\n",
        "decoder_embed_layer  =  Embedding(vocab_y, _EMBEDDING_DIM, trainable=True, name='Decoder_embedding')\n",
        "decoder_embed        =  decoder_embed_layer(decoder_input)\n",
        "decoder              =  LSTM(_DECODER_DIM,\n",
        "                             return_sequences=True,\n",
        "                             return_state=True,\n",
        "                             dropout=0.4, recurrent_dropout=0.3, name='Decoder_layer')\n",
        "decoder_output, decoder_state_h, decoder_state_c = decoder(decoder_embed,initial_state=[state_h, state_c])\n",
        "\n",
        "# Attention layer\n",
        "attention_layer =  Attention(name='Attention_layer')\n",
        "attention_out   =  attention_layer([decoder_output, encoder_output])\n",
        "\n",
        "# Concat attention layer's output and decoder's output\n",
        "concat_layer    =  Concatenate(axis=-1, name='Concat_layer')([decoder_output, attention_out])\n",
        "\n",
        "# Dense layer\n",
        "decoder_dense   =  TimeDistributed(Dense(vocab_y, activation='softmax'))\n",
        "decoder_output  =  decoder_dense(concat_layer)\n",
        "\n",
        "# Model \n",
        "model           =  Model([encoder_input, decoder_input], decoder_output, name='Model')\n",
        "\n",
        "model.summary()"
      ],
      "execution_count": null,
      "outputs": [
        {
          "output_type": "stream",
          "text": [
            "Model: \"Model\"\n",
            "__________________________________________________________________________________________________\n",
            "Layer (type)                    Output Shape         Param #     Connected to                     \n",
            "==================================================================================================\n",
            "Encoder_input (InputLayer)      [(None, 60)]         0                                            \n",
            "__________________________________________________________________________________________________\n",
            "Encoder_embedding (Embedding)   (None, 60, 500)      8553500     Encoder_input[0][0]              \n",
            "__________________________________________________________________________________________________\n",
            "Decoder_input (InputLayer)      [(None, None)]       0                                            \n",
            "__________________________________________________________________________________________________\n",
            "Encoder_layer (Bidirectional)   [(None, 60, 600), (N 1922400     Encoder_embedding[0][0]          \n",
            "__________________________________________________________________________________________________\n",
            "Decoder_embedding (Embedding)   (None, None, 500)    2590000     Decoder_input[0][0]              \n",
            "__________________________________________________________________________________________________\n",
            "concatenate_2 (Concatenate)     (None, 600)          0           Encoder_layer[0][1]              \n",
            "                                                                 Encoder_layer[0][3]              \n",
            "__________________________________________________________________________________________________\n",
            "concatenate_3 (Concatenate)     (None, 600)          0           Encoder_layer[0][2]              \n",
            "                                                                 Encoder_layer[0][4]              \n",
            "__________________________________________________________________________________________________\n",
            "Decoder_layer (LSTM)            [(None, None, 600),  2642400     Decoder_embedding[0][0]          \n",
            "                                                                 concatenate_2[0][0]              \n",
            "                                                                 concatenate_3[0][0]              \n",
            "__________________________________________________________________________________________________\n",
            "Attention_layer (Attention)     (None, None, 600)    0           Decoder_layer[0][0]              \n",
            "                                                                 Encoder_layer[0][0]              \n",
            "__________________________________________________________________________________________________\n",
            "Concat_layer (Concatenate)      (None, None, 1200)   0           Decoder_layer[0][0]              \n",
            "                                                                 Attention_layer[0][0]            \n",
            "__________________________________________________________________________________________________\n",
            "time_distributed_1 (TimeDistrib (None, None, 5180)   6221180     Concat_layer[0][0]               \n",
            "==================================================================================================\n",
            "Total params: 21,929,480\n",
            "Trainable params: 21,929,480\n",
            "Non-trainable params: 0\n",
            "__________________________________________________________________________________________________\n"
          ],
          "name": "stdout"
        }
      ]
    },
    {
      "cell_type": "code",
      "metadata": {
        "id": "9TvQMlhj2fux",
        "colab": {
          "base_uri": "https://localhost:8080/",
          "height": 366
        },
        "outputId": "fd98ea59-4742-4430-b4dd-8a8c8bc4b1c0"
      },
      "source": [
        "\n",
        "model.compile(optimizer='adam', loss='sparse_categorical_crossentropy')\n",
        "\n",
        "stopearly =  EarlyStopping(monitor='val_loss', mode='min', verbose=1, patience=2)\n",
        "X         =  [x_tr,y_tr[:,:-1]]\n",
        "y         =  y_tr.reshape(y_tr.shape[0], y_tr.shape[1], 1)[:,1:]\n",
        "VAL_X     =  [x_val,y_val[:,:-1]]\n",
        "VAL_y     =  y_val.reshape(y_val.shape[0], y_val.shape[1], 1)[:,1:]\n",
        "history   =  model.fit(X, y, epochs=10, callbacks=[stopearly], batch_size=_BATCH_SIZE, validation_data=(VAL_X, VAL_y))"
      ],
      "execution_count": null,
      "outputs": [
        {
          "output_type": "stream",
          "text": [
            "Epoch 1/10\n",
            "220/220 [==============================] - 1947s 9s/step - loss: 0.6198 - val_loss: 0.4049\n",
            "Epoch 2/10\n",
            "220/220 [==============================] - 1969s 9s/step - loss: 0.4203 - val_loss: 0.3932\n",
            "Epoch 3/10\n",
            "220/220 [==============================] - 1970s 9s/step - loss: 0.4033 - val_loss: 0.3803\n",
            "Epoch 4/10\n",
            "220/220 [==============================] - 1974s 9s/step - loss: 0.3802 - val_loss: 0.3632\n",
            "Epoch 5/10\n",
            "220/220 [==============================] - 1968s 9s/step - loss: 0.3543 - val_loss: 0.3498\n",
            "Epoch 6/10\n",
            "220/220 [==============================] - 1979s 9s/step - loss: 0.3292 - val_loss: 0.3428\n",
            "Epoch 7/10\n",
            "220/220 [==============================] - 1967s 9s/step - loss: 0.3044 - val_loss: 0.3397\n",
            "Epoch 8/10\n",
            "220/220 [==============================] - 1927s 9s/step - loss: 0.2792 - val_loss: 0.3388\n",
            "Epoch 9/10\n",
            "220/220 [==============================] - 1920s 9s/step - loss: 0.2530 - val_loss: 0.3412\n",
            "Epoch 10/10\n",
            "220/220 [==============================] - 1916s 9s/step - loss: 0.2264 - val_loss: 0.3481\n",
            "Epoch 00010: early stopping\n"
          ],
          "name": "stdout"
        }
      ]
    },
    {
      "cell_type": "code",
      "metadata": {
        "id": "yDdOuIBE2ieh",
        "colab": {
          "base_uri": "https://localhost:8080/",
          "height": 621
        },
        "outputId": "567b971a-28d9-4f0f-efb0-b12e85ddf448"
      },
      "source": [
        "# For loss\n",
        "plt.plot(history.history['loss'])\n",
        "plt.plot(history.history['val_loss'])\n",
        "plt.title('model loss')\n",
        "plt.xlabel('no. of epochs')\n",
        "plt.ylabel('loss')\n",
        "plt.legend(['train', 'validate'], loc='upper right')\n",
        "plt.show()"
      ],
      "execution_count": null,
      "outputs": [
        {
          "output_type": "display_data",
          "data": {
            "image/png": "[encoded data removed]",
            "text/plain": [
              "<Figure size 720x720 with 1 Axes>"
            ]
          },
          "metadata": {
            "tags": [],
            "needs_background": "light"
          }
        }
      ]
    },
    {
      "cell_type": "code",
      "metadata": {
        "id": "dmFN8erkj_Jg"
      },
      "source": [
        "_MODEL_NAME = 'model_3'\n",
        "model.save('/content/drive/My Drive/ML Project/model3.h5')"
      ],
      "execution_count": null,
      "outputs": []
    },
    {
      "cell_type": "code",
      "metadata": {
        "id": "pWTeQ6fM7ACh"
      },
      "source": [
        "encoder_model = Model(inputs  = encoder_input,\n",
        "                outputs = [encoder_output, state_h, state_c])\n",
        "\n",
        "# For storing decoder's previous states which will act as our encoder here\n",
        "decoder_previous_state_h = Input(shape=(_DECODER_DIM,))\n",
        "decoder_previous_state_c = Input(shape=(_DECODER_DIM,))\n",
        "decoder_previous_output  = Input(shape=(_MAX_TEXT_LEN, _DECODER_DIM))\n",
        "\n",
        "# This new decoder will take the 'previous decoder' i.e, our encoder's output\n",
        "decoder_embed_new = decoder_embed_layer(decoder_input)\n",
        "decoder_output_new, state_h_new, state_c_new = decoder(decoder_embed_new,\n",
        "                                                       initial_state = [decoder_previous_state_h, decoder_previous_state_c])\n",
        "\n",
        "# Attention layer & concat layer for the new decoder and encoder\n",
        "attention_out_new    =  attention_layer([decoder_output_new, decoder_previous_output])\n",
        "concat_layer_final   =  Concatenate(axis=-1)([decoder_output_new, attention_out_new])\n",
        "\n",
        "# A dense softmax layer to generate prob dist. over the target vocabulary\n",
        "decoder_output_final =  decoder_dense(concat_layer_final)\n",
        "\n",
        "# Final decoder model\n",
        "decoder_model = Model(\n",
        "    [decoder_input] + [decoder_previous_output, decoder_previous_state_h, decoder_previous_state_c],\n",
        "    [decoder_output_final] + [state_h_new, state_c_new])"
      ],
      "execution_count": null,
      "outputs": []
    },
    {
      "cell_type": "code",
      "metadata": {
        "id": "6PeGhsSZ7ALM"
      },
      "source": [
        "# Summarizes an input sequence to the final sequence by making the encoder-decoder model \n",
        "# predict 1 word at a time\n",
        "\n",
        "def summarizer(input_seq):\n",
        "    encoder_out, encoder_h, encoder_c = encoder_model.predict(input_seq)\n",
        "    target_seq = np.zeros((1,1))\n",
        "    target_seq[0, 0] = word_to_index_summary['stok']\n",
        "    stop_condition = False\n",
        "    decoded_sentence = ''\n",
        "\n",
        "    while not stop_condition:\n",
        "        output_tokens, h, c = decoder_model.predict([target_seq] + [encoder_out, encoder_h, encoder_c])\n",
        "        # Greedy decoder\n",
        "        sampled_token_index = np.argmax(output_tokens[0, -1, :])\n",
        "        sampled_token = index_to_word_summary[sampled_token_index]\n",
        "        \n",
        "        if sampled_token != 'etok':\n",
        "            decoded_sentence += sampled_token + ' '\n",
        "\n",
        "        if sampled_token == 'etok' or len(decoded_sentence.split()) >= (_MAX_SUMMARY_LEN-1):\n",
        "            stop_condition = True\n",
        "\n",
        "        target_seq = np.zeros((1,1))\n",
        "        target_seq[0, 0] = sampled_token_index\n",
        "\n",
        "        encoder_h, encoder_c = h, c\n",
        "\n",
        "    return decoded_sentence"
      ],
      "execution_count": null,
      "outputs": []
    },
    {
      "cell_type": "code",
      "metadata": {
        "id": "0O0BKKig7AO3"
      },
      "source": [
        "def sequence_to_summary(input_seq):\n",
        "    s = ''\n",
        "    for i in input_seq:\n",
        "        if i != 0 and i != word_to_index_summary['stok'] and i != word_to_index_summary['etok']:\n",
        "            s += index_to_word_summary[i] + ' '\n",
        "    return s\n",
        "\n",
        "def sequence_to_text(input_seq):\n",
        "    s = ''\n",
        "    for i in input_seq:\n",
        "        if i != 0:\n",
        "            s += index_to_word_text[i] + ' '\n",
        "    return s"
      ],
      "execution_count": null,
      "outputs": []
    },
    {
      "cell_type": "code",
      "metadata": {
        "id": "brREBXeM7oKW",
        "colab": {
          "base_uri": "https://localhost:8080/",
          "height": 453
        },
        "outputId": "e5f9b5f2-0cf1-44be-f167-e6ddb6d93789"
      },
      "source": [
        "for i in range(5):\n",
        "    print(\"Review:\",sequence_to_text(x_tr[i]))\n",
        "    print(\"Original summary:\",sequence_to_summary(y_tr[i]))\n",
        "    print(\"Predicted summary:\",summarizer(x_tr[i].reshape(1,_MAX_TEXT_LEN)))\n",
        "    print(\"\\n\")"
      ],
      "execution_count": null,
      "outputs": [
        {
          "output_type": "stream",
          "text": [
            "Review: coffee great cheaper bed bath beyond coupon taxes added \n",
            "Original summary: cheaper at bbb with coupon \n",
            "Predicted summary: great price \n",
            "\n",
            "\n",
            "Review: rarely eat anything whole wheat pasta every eat treat almost good pastas ate italy make sure cook \n",
            "Original summary: reminds me of italy \n",
            "Predicted summary: my son loves these \n",
            "\n",
            "\n",
            "Review: use loose tea time regular loose tea become hard find local grocery stores subscription great \n",
            "Original summary: love this service \n",
            "Predicted summary: rishi tea loose leaf tea bags \n",
            "\n",
            "\n",
            "Review: love soy nuts especially garlic onion blend perfect taking party snacking go happy every product truson \n",
            "Original summary: organic fresh crunchy \n",
            "Predicted summary: delicious \n",
            "\n",
            "\n",
            "Review: found product discounted good price slickdeals net br br first time drinking stuff since bought blown away awesome taste first time trying something nestle brand cocoa times ordered cocoa cafe br br nice blend mocoa cocoa taste sweet like used nestle br br definitely giving thumbs \n",
            "Original summary: good stuff \n",
            "Predicted summary: good stuff \n",
            "\n",
            "\n"
          ],
          "name": "stdout"
        }
      ]
    },
    {
      "cell_type": "code",
      "metadata": {
        "id": "0Bv0vUcO7tvA",
        "colab": {
          "base_uri": "https://localhost:8080/",
          "height": 453
        },
        "outputId": "b8e9e677-1734-49ea-e615-0040f6833d57"
      },
      "source": [
        "for i in range(5):\n",
        "    print(\"Review:\",sequence_to_text(x_val[i]))\n",
        "    print(\"Original summary:\",sequence_to_summary(y_val[i]))\n",
        "    print(\"Predicted summary:\",summarizer(x_val[i].reshape(1,_MAX_TEXT_LEN)))\n",
        "    print(\"\\n\")"
      ],
      "execution_count": null,
      "outputs": [
        {
          "output_type": "stream",
          "text": [
            "Review: looking great grain free alternative beef chicken two girls loved used put kongs put dry food seal end wet food put freezer dinner would become challenge con food pricey wellness products could probably get results looking grain free food something like taste wild gone cost \n",
            "Original summary: great grain free food \n",
            "Predicted summary: my cats love this food \n",
            "\n",
            "\n",
            "Review: eaten alot different kinds walnuts never found better emerald dry roasted walnuts love senior citizen would recommend everyone good \n",
            "Original summary: walnuts \n",
            "Predicted summary: great product \n",
            "\n",
            "\n",
            "Review: high quality tea first open bergamot scent floor strong bad way beautifully citrus filled tea leaves seen packaged tea specialty tea store mean fragments breakage nice clean full leaves br br brews nice looks smooth flavor bitterness br br recommend giving try looking new tea brand disappoint \n",
            "Original summary: excellent aromatic and smooth \n",
            "Predicted summary: my favorite tea \n",
            "\n",
            "\n",
            "Review: bought sweet potato fish diet thought would little larger suitable smaller breed dog even little small pug afraid would choke \n",
            "Original summary: odd shaped \n",
            "Predicted summary: good but not great \n",
            "\n",
            "\n",
            "Review: giving dogs past couple years love even though bit pricey bag lasts long time dogs spoiled dogs get treats rewards good behavior really anything bag lasts couple weeks merrick excellent company dogs love really else matters excellent price ready buy soon \n",
            "Original summary: lamb treats the only treats for my dogs \n",
            "Predicted summary: zukes treats \n",
            "\n",
            "\n"
          ],
          "name": "stdout"
        }
      ]
    },
    {
      "cell_type": "code",
      "metadata": {
        "id": "g_COX0FRFVsN",
        "colab": {
          "base_uri": "https://localhost:8080/",
          "height": 50
        },
        "outputId": "a2fb8c96-7e5d-4448-873f-00e413424a41"
      },
      "source": [
        "import re\n",
        "import os\n",
        "import pickle\n",
        "import logging\n",
        "import numpy as np\n",
        "import pandas as pd\n",
        "import contractions\n",
        "from nltk.corpus import stopwords\n",
        "from tensorflow.keras.models import load_model\n",
        "from tensorflow.keras.preprocessing.text import Tokenizer\n",
        "from tensorflow.keras.preprocessing.sequence import pad_sequences\n",
        "import nltk\n",
        "nltk.download('stopwords')\n",
        "\n",
        "os.environ[\"TF_CPP_MIN_LOG_LEVEL\"] = \"3\"\n",
        "logging.getLogger(\"tensorflow\").setLevel(logging.CRITICAL)\n",
        "\n",
        "\n",
        "class Summarizer:\n",
        "\n",
        "  def __init__(self):\n",
        "    self.dir_path = '/content/gdrive/My Drive/Colab Notebooks/Summarization/summarization v2'\n",
        "    self._MAX_TEXT_LEN    =  60\n",
        "    self._MAX_SUMMARY_LEN =  10\n",
        "    self._TEXT_PADDING    =  'post'\n",
        "    self.encoder_model = encoder_model\n",
        "    self.decoder_model = decoder_model\n",
        "    self.index_to_word_text, self.index_to_word_summary, self.word_to_index_summary = index_to_word_text, index_to_word_summary, word_to_index_summary\n",
        "    self.tok_x = tok_x\n",
        "  \n",
        "  def summarize(self, sent):\n",
        "    \"\"\"wrapper function to test the model\"\"\"\n",
        "\n",
        "    sent = self.cleaner(sent, remove_stopwords=True)\n",
        "    if len(sent.split()) > self._MAX_TEXT_LEN:\n",
        "      return \"make your sentence length less than {} words\".format(self._MAX_TEXT_LEN)\n",
        "\n",
        "    seq = self.tok_x.texts_to_sequences(sent.split())\n",
        "    seq = [[item for sublist in seq for item in sublist]]\n",
        "    seq = pad_sequences(seq, maxlen=self._MAX_TEXT_LEN, padding=self._TEXT_PADDING)\n",
        "    return self.seq2seq_model(seq.reshape(1, self._MAX_TEXT_LEN))\n",
        "\n",
        "\n",
        "  def cleaner(self, text, remove_stopwords=True):\n",
        "    \"\"\"removes url's, nltk's stopwords and anything which is not an alphabet\"\"\"\n",
        "\n",
        "    stop_words = set(stopwords.words('english'))\n",
        "    text = re.sub(r'^https?:\\/\\/.*[\\r\\n]*', '', text.lower(), flags=re.MULTILINE)\n",
        "    text = re.sub(r'[^a-zA-Z]', ' ', text)\n",
        "    text = contractions.fix(text, slang=False)\n",
        "    if remove_stopwords:\n",
        "      text = ' '.join([word for word in text.split() if word not in stop_words]).strip()\n",
        "      \n",
        "    return text\n",
        "  \n",
        "  def seq2seq_model(self, input_seq):\n",
        "    \"\"\"summarizes the input text given and returns the summarized string\"\"\"\n",
        "\n",
        "    encoder_out, encoder_h, encoder_c = self.encoder_model.predict(input_seq)\n",
        "    target_seq = np.zeros((1,1))\n",
        "    target_seq[0, 0] = self.word_to_index_summary['stok']\n",
        "    stop_condition = False\n",
        "    decoded_sentence = ''\n",
        "\n",
        "    while not stop_condition:\n",
        "      output_tokens, h, c = self.decoder_model.predict([target_seq] + [encoder_out, encoder_h, encoder_c])\n",
        "      sampled_token_index = np.argmax(output_tokens[0, -1, :])\n",
        "      sampled_token = self.index_to_word_summary[sampled_token_index]\n",
        "      \n",
        "      if sampled_token != 'etok':\n",
        "        decoded_sentence += sampled_token + ' '\n",
        "        \n",
        "      if sampled_token == 'etok' or len(decoded_sentence.split()) >= (self._MAX_SUMMARY_LEN-1):\n",
        "        stop_condition = True\n",
        "\n",
        "      target_seq = np.zeros((1,1))\n",
        "      target_seq[0, 0] = sampled_token_index\n",
        "      encoder_h, encoder_c = h, c\n",
        "\n",
        "    return decoded_sentence"
      ],
      "execution_count": null,
      "outputs": [
        {
          "output_type": "stream",
          "text": [
            "[nltk_data] Downloading package stopwords to /root/nltk_data...\n",
            "[nltk_data]   Package stopwords is already up-to-date!\n"
          ],
          "name": "stdout"
        }
      ]
    },
    {
      "cell_type": "code",
      "metadata": {
        "id": "sds3UQWEF8M4"
      },
      "source": [
        "from rouge import Rouge\n",
        "\n",
        "scorer = Rouge()"
      ],
      "execution_count": null,
      "outputs": []
    },
    {
      "cell_type": "code",
      "metadata": {
        "id": "5zhE50kDGKD7",
        "colab": {
          "base_uri": "https://localhost:8080/",
          "height": 120
        },
        "outputId": "eb3362cf-ab3c-41d5-ac2c-c279c5ef1092"
      },
      "source": [
        "!pip install Rouge"
      ],
      "execution_count": null,
      "outputs": [
        {
          "output_type": "stream",
          "text": [
            "Collecting Rouge\n",
            "  Downloading https://files.pythonhosted.org/packages/43/cc/e18e33be20971ff73a056ebdb023476b5a545e744e3fc22acd8c758f1e0d/rouge-1.0.0-py3-none-any.whl\n",
            "Requirement already satisfied: six in /usr/local/lib/python3.6/dist-packages (from Rouge) (1.15.0)\n",
            "Installing collected packages: Rouge\n",
            "Successfully installed Rouge-1.0.0\n"
          ],
          "name": "stdout"
        }
      ]
    },
    {
      "cell_type": "code",
      "metadata": {
        "id": "lxk0c3fyK6Gf"
      },
      "source": [
        "\n",
        "# loading our model\n",
        "model1 = Summarizer()"
      ],
      "execution_count": null,
      "outputs": []
    },
    {
      "cell_type": "code",
      "metadata": {
        "id": "E2xjcGLBlwqq"
      },
      "source": [
        "def tryit(sent):\n",
        "  \"\"\"wrapper function to test the model\"\"\"\n",
        "\n",
        "  sent = cleaner(sent, remove_stopwords=True)\n",
        "  if len(sent.split()) > _MAX_TEXT_LEN:\n",
        "    return \"make your sentence length less than {} words\".format(_MAX_TEXT_LEN)\n",
        "\n",
        "  seq = tok_x.texts_to_sequences(sent.split())\n",
        "  seq = [[item for sublist in seq for item in sublist]]\n",
        "  seq = pad_sequences(seq, maxlen=_MAX_TEXT_LEN, padding=_TEXT_PADDING)\n",
        "  return summarizer(seq.reshape(1,_MAX_TEXT_LEN))"
      ],
      "execution_count": null,
      "outputs": []
    },
    {
      "cell_type": "code",
      "metadata": {
        "id": "TmO7zkhnlzYU"
      },
      "source": [
        "text = 'We tried the Megna for the first time last night and the food was great, freshly cooked very tasty and well presented. \\\n",
        "The waiters were attentive and service overall was good. The restaurant looked to have been recently decorated. \\\n",
        "Overall a good meal and great value we will certainly be going back.'\n",
        "\n",
        "real_summary = 'tried megna good food attentive waiters'"
      ],
      "execution_count": null,
      "outputs": []
    },
    {
      "cell_type": "code",
      "metadata": {
        "id": "W3SN_vwXl1Zk",
        "colab": {
          "base_uri": "https://localhost:8080/",
          "height": 34
        },
        "outputId": "db3435c5-f296-400e-95e0-a286455b35ae"
      },
      "source": [
        "tryit(text)"
      ],
      "execution_count": null,
      "outputs": [
        {
          "output_type": "execute_result",
          "data": {
            "application/vnd.google.colaboratory.intrinsic+json": {
              "type": "string"
            },
            "text/plain": [
              "'great product '"
            ]
          },
          "metadata": {
            "tags": []
          },
          "execution_count": 75
        }
      ]
    },
    {
      "cell_type": "code",
      "metadata": {
        "id": "VK4C14f5l5wF",
        "colab": {
          "base_uri": "https://localhost:8080/",
          "height": 303
        },
        "outputId": "72fac7ff-9784-41f8-cc2b-45bf9a6147b1"
      },
      "source": [
        "\n",
        "text1 = text.split('.')\n",
        "for l in text1:\n",
        "  if len(l) > 0:\n",
        "    print('text :', l.strip())\n",
        "    print('predict:', tryit(l))\n",
        "    print('\\n')"
      ],
      "execution_count": null,
      "outputs": [
        {
          "output_type": "stream",
          "text": [
            "text : We tried the Megna for the first time last night and the food was great, freshly cooked very tasty and well presented\n",
            "predict: great product \n",
            "\n",
            "\n",
            "text : The waiters were attentive and service overall was good\n",
            "predict: good product \n",
            "\n",
            "\n",
            "text : The restaurant looked to have been recently decorated\n",
            "predict: green mountain breakfast blend \n",
            "\n",
            "\n",
            "text : Overall a good meal and great value we will certainly be going back\n",
            "predict: good value \n",
            "\n",
            "\n"
          ],
          "name": "stdout"
        }
      ]
    },
    {
      "cell_type": "code",
      "metadata": {
        "id": "cNDNromZmDoi",
        "colab": {
          "base_uri": "https://localhost:8080/",
          "height": 34
        },
        "outputId": "ab4f2981-a458-4fd6-db33-91b18c6e0c01"
      },
      "source": [
        "tryit('the food was terribly good')"
      ],
      "execution_count": null,
      "outputs": [
        {
          "output_type": "execute_result",
          "data": {
            "application/vnd.google.colaboratory.intrinsic+json": {
              "type": "string"
            },
            "text/plain": [
              "'good stuff '"
            ]
          },
          "metadata": {
            "tags": []
          },
          "execution_count": 78
        }
      ]
    },
    {
      "cell_type": "code",
      "metadata": {
        "id": "mwj3VpU1mHUP",
        "colab": {
          "base_uri": "https://localhost:8080/",
          "height": 34
        },
        "outputId": "297c7009-00ce-405b-9273-9e2d697152f7"
      },
      "source": [
        "tryit('the food was terrible')"
      ],
      "execution_count": null,
      "outputs": [
        {
          "output_type": "execute_result",
          "data": {
            "application/vnd.google.colaboratory.intrinsic+json": {
              "type": "string"
            },
            "text/plain": [
              "'good stuff '"
            ]
          },
          "metadata": {
            "tags": []
          },
          "execution_count": 80
        }
      ]
    },
    {
      "cell_type": "code",
      "metadata": {
        "id": "UXdS7m5lmLtH",
        "colab": {
          "base_uri": "https://localhost:8080/",
          "height": 34
        },
        "outputId": "e42ef6e3-341f-4d22-f623-9669e0325103"
      },
      "source": [
        "tryit('the food was bad at first but finally it turned out to be otherwise')"
      ],
      "execution_count": null,
      "outputs": [
        {
          "output_type": "execute_result",
          "data": {
            "application/vnd.google.colaboratory.intrinsic+json": {
              "type": "string"
            },
            "text/plain": [
              "'not bad '"
            ]
          },
          "metadata": {
            "tags": []
          },
          "execution_count": 81
        }
      ]
    },
    {
      "cell_type": "code",
      "metadata": {
        "id": "K9nYIucGmOqj",
        "colab": {
          "base_uri": "https://localhost:8080/",
          "height": 34
        },
        "outputId": "b5833a31-1685-4867-8672-66b62b5bca88"
      },
      "source": [
        "tryit('I love maggi but couldn\\'t find any')"
      ],
      "execution_count": null,
      "outputs": [
        {
          "output_type": "execute_result",
          "data": {
            "application/vnd.google.colaboratory.intrinsic+json": {
              "type": "string"
            },
            "text/plain": [
              "'great product '"
            ]
          },
          "metadata": {
            "tags": []
          },
          "execution_count": 83
        }
      ]
    },
    {
      "cell_type": "code",
      "metadata": {
        "id": "5G12gUErmTSU",
        "colab": {
          "base_uri": "https://localhost:8080/",
          "height": 34
        },
        "outputId": "8beb9a26-202d-4590-bf8b-1499fac67dd5"
      },
      "source": [
        "\n",
        "tryit('well the food was not that bad but certainly can be improved')"
      ],
      "execution_count": null,
      "outputs": [
        {
          "output_type": "execute_result",
          "data": {
            "application/vnd.google.colaboratory.intrinsic+json": {
              "type": "string"
            },
            "text/plain": [
              "'good quality '"
            ]
          },
          "metadata": {
            "tags": []
          },
          "execution_count": 84
        }
      ]
    },
    {
      "cell_type": "code",
      "metadata": {
        "id": "rjGvpvhBLEHK"
      },
      "source": [
        "# storing all the rouge scores\n",
        "rouge_1 = {'f':[], 'p':[], 'r':[]}\n",
        "rouge_2 = {'f':[], 'p':[], 'r':[]}\n",
        "rouge_l = {'f':[], 'p':[], 'r':[]}"
      ],
      "execution_count": null,
      "outputs": []
    },
    {
      "cell_type": "code",
      "metadata": {
        "id": "ykdFefCUGZfA"
      },
      "source": [
        "for i in range(df.shape[0]):\n",
        "  text = df['text'][i]\n",
        "  reference = ' '.join(df['summary'][i].split()[1:-1])\n",
        "  if len(reference) == 0:\n",
        "    continue\n",
        "  hypothesis = model1.summarize(text)\n",
        "  scores = scorer.get_scores(hypothesis, reference)[0]\n",
        "  one, two, l = scores['rouge-1'], scores['rouge-2'], scores['rouge-l']\n",
        "  for p, q in one.items():\n",
        "    rouge_1[p].append(q)\n",
        "  for p, q in two.items():\n",
        "    rouge_2[p].append(q)\n",
        "  for p, q in l.items():\n",
        "    rouge_l[p].append(q)"
      ],
      "execution_count": null,
      "outputs": []
    },
    {
      "cell_type": "code",
      "metadata": {
        "id": "yHeX1wCFGgK8",
        "colab": {
          "base_uri": "https://localhost:8080/",
          "height": 33
        },
        "outputId": "a986a83b-dd11-4eb4-b960-092a3d632514"
      },
      "source": [
        "\n",
        "np.mean(rouge_1['f']), np.mean(rouge_1['p']), np.mean(rouge_1['r'])"
      ],
      "execution_count": null,
      "outputs": [
        {
          "output_type": "execute_result",
          "data": {
            "text/plain": [
              "(0.22793531496743133, 0.25894097222222223, 0.22717427248677247)"
            ]
          },
          "metadata": {
            "tags": []
          },
          "execution_count": 87
        }
      ]
    },
    {
      "cell_type": "code",
      "metadata": {
        "id": "V0vUs3EQLIRS",
        "colab": {
          "base_uri": "https://localhost:8080/",
          "height": 33
        },
        "outputId": "2a42d49f-f011-4a21-d0ef-16aa9c58119b"
      },
      "source": [
        "np.mean(rouge_2['f']), np.mean(rouge_2['p']), np.mean(rouge_2['r'])"
      ],
      "execution_count": null,
      "outputs": [
        {
          "output_type": "execute_result",
          "data": {
            "text/plain": [
              "(0.07575231423031122, 0.09010416666666667, 0.06956845238095237)"
            ]
          },
          "metadata": {
            "tags": []
          },
          "execution_count": 88
        }
      ]
    },
    {
      "cell_type": "code",
      "metadata": {
        "id": "kU4tHiD_LLyO",
        "colab": {
          "base_uri": "https://localhost:8080/",
          "height": 33
        },
        "outputId": "a206725f-7888-4fac-f143-80c3d2a49dd8"
      },
      "source": [
        "np.mean(rouge_l['f']), np.mean(rouge_l['p']), np.mean(rouge_l['r'])"
      ],
      "execution_count": null,
      "outputs": [
        {
          "output_type": "execute_result",
          "data": {
            "text/plain": [
              "(0.22896171911236507, 0.25972222222222224, 0.2273602843915344)"
            ]
          },
          "metadata": {
            "tags": []
          },
          "execution_count": 89
        }
      ]
    },
    {
      "cell_type": "code",
      "metadata": {
        "id": "Dvw-VCAiLMTA"
      },
      "source": [
        "arr1=list()\n",
        "arr1.append([\"Rouge 1\",np.mean(rouge_1['f']), np.mean(rouge_1['p']), np.mean(rouge_1['r'])])\n",
        "arr1.append([\"Rouge 2\",np.mean(rouge_2['f']), np.mean(rouge_2['p']), np.mean(rouge_2['r'])])\n",
        "arr1.append([\"Rouge l\",np.mean(rouge_l['f']), np.mean(rouge_l['p']), np.mean(rouge_l['r'])])"
      ],
      "execution_count": null,
      "outputs": []
    },
    {
      "cell_type": "code",
      "metadata": {
        "id": "iChtvSY-oM21"
      },
      "source": [
        "Rouge=[\"Rouge 1\",\"Rouge 2\",\"Rouge l\"]"
      ],
      "execution_count": null,
      "outputs": []
    },
    {
      "cell_type": "code",
      "metadata": {
        "id": "65WBIrPwp2Zs",
        "colab": {
          "base_uri": "https://localhost:8080/",
          "height": 66
        },
        "outputId": "5a1c3d1c-2350-45c8-9d91-bc30164db994"
      },
      "source": [
        "arr1"
      ],
      "execution_count": null,
      "outputs": [
        {
          "output_type": "execute_result",
          "data": {
            "text/plain": [
              "[['Rouge 1', 0.22793531496743133, 0.25894097222222223, 0.22717427248677247],\n",
              " ['Rouge 2', 0.07575231423031122, 0.09010416666666667, 0.06956845238095237],\n",
              " ['Rouge l', 0.22896171911236507, 0.25972222222222224, 0.2273602843915344]]"
            ]
          },
          "metadata": {
            "tags": []
          },
          "execution_count": 100
        }
      ]
    },
    {
      "cell_type": "code",
      "metadata": {
        "id": "xMYeGAnJo0Ew"
      },
      "source": [
        "df_final=pd.DataFrame(arr1,columns=[\"Rouge\",\"f\",\"p\",\"r\"],)"
      ],
      "execution_count": null,
      "outputs": []
    },
    {
      "cell_type": "code",
      "metadata": {
        "id": "_LtP5h9vpTuO",
        "colab": {
          "base_uri": "https://localhost:8080/",
          "height": 137
        },
        "outputId": "a9ca4ffa-5392-43ca-c306-4c7a7f96f783"
      },
      "source": [
        "df_final"
      ],
      "execution_count": null,
      "outputs": [
        {
          "output_type": "execute_result",
          "data": {
            "text/html": [
              "<div>\n",
              "<style scoped>\n",
              "    .dataframe tbody tr th:only-of-type {\n",
              "        vertical-align: middle;\n",
              "    }\n",
              "\n",
              "    .dataframe tbody tr th {\n",
              "        vertical-align: top;\n",
              "    }\n",
              "\n",
              "    .dataframe thead th {\n",
              "        text-align: right;\n",
              "    }\n",
              "</style>\n",
              "<table border=\"1\" class=\"dataframe\">\n",
              "  <thead>\n",
              "    <tr style=\"text-align: right;\">\n",
              "      <th></th>\n",
              "      <th>Rouge</th>\n",
              "      <th>f</th>\n",
              "      <th>p</th>\n",
              "      <th>r</th>\n",
              "    </tr>\n",
              "  </thead>\n",
              "  <tbody>\n",
              "    <tr>\n",
              "      <th>0</th>\n",
              "      <td>Rouge 1</td>\n",
              "      <td>0.227935</td>\n",
              "      <td>0.258941</td>\n",
              "      <td>0.227174</td>\n",
              "    </tr>\n",
              "    <tr>\n",
              "      <th>1</th>\n",
              "      <td>Rouge 2</td>\n",
              "      <td>0.075752</td>\n",
              "      <td>0.090104</td>\n",
              "      <td>0.069568</td>\n",
              "    </tr>\n",
              "    <tr>\n",
              "      <th>2</th>\n",
              "      <td>Rouge l</td>\n",
              "      <td>0.228962</td>\n",
              "      <td>0.259722</td>\n",
              "      <td>0.227360</td>\n",
              "    </tr>\n",
              "  </tbody>\n",
              "</table>\n",
              "</div>"
            ],
            "text/plain": [
              "     Rouge         f         p         r\n",
              "0  Rouge 1  0.227935  0.258941  0.227174\n",
              "1  Rouge 2  0.075752  0.090104  0.069568\n",
              "2  Rouge l  0.228962  0.259722  0.227360"
            ]
          },
          "metadata": {
            "tags": []
          },
          "execution_count": 106
        }
      ]
    },
    {
      "cell_type": "code",
      "metadata": {
        "id": "xQlCSA-mpUu0"
      },
      "source": [
        ""
      ],
      "execution_count": null,
      "outputs": []
    }
  ]
}